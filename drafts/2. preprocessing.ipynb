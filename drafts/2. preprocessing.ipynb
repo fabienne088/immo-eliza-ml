{
 "cells": [
  {
   "cell_type": "markdown",
   "metadata": {},
   "source": [
    "# 2. Preprocessing"
   ]
  },
  {
   "cell_type": "markdown",
   "metadata": {},
   "source": [
    "## Preparation of the dataset for machine learning\n",
    "\n",
    "- Handling NaNs (hint: **imputation**)\n",
    "- Converting categorical data into numeric features (hint: **one-hot encoding**)\n",
    "- Rescaling numeric features (hint: **standardization**)"
   ]
  },
  {
   "cell_type": "markdown",
   "metadata": {},
   "source": [
    "## Handling NaNs with imputation"
   ]
  },
  {
   "cell_type": "code",
   "execution_count": null,
   "metadata": {},
   "outputs": [],
   "source": [
    "# Import libraries\n",
    "import pandas as pd\n",
    "import numpy as np\n",
    "import csv\n",
    "\n",
    "# Read the csv file\n",
    "df = pd.read_csv(\"../data/cleaned_properties.csv\")\n",
    "\n",
    "# Display the head\n",
    "df.head()"
   ]
  },
  {
   "cell_type": "markdown",
   "metadata": {},
   "source": [
    "Mean/Median Imputation"
   ]
  },
  {
   "cell_type": "code",
   "execution_count": null,
   "metadata": {},
   "outputs": [],
   "source": [
    "# Specify columns to impute\n",
    "impute_columns = [\"total_area_sqm\", \"surface_land_sqm\", \"nbr_frontages\", \"nbr_bedrooms\", \"terrace_sqm\", \"garden_sqm\", \"primary_energy_consumption_sqm\", \"cadastral_income\"]\n",
    "\n",
    "# Select numerical data\n",
    "impute_df = df[impute_columns]"
   ]
  },
  {
   "cell_type": "code",
   "execution_count": null,
   "metadata": {},
   "outputs": [],
   "source": [
    "df.select_dtypes(include=float)"
   ]
  },
  {
   "cell_type": "code",
   "execution_count": null,
   "metadata": {},
   "outputs": [],
   "source": [
    "df = df.select_dtypes(include=float)\n",
    "\n",
    "# mean imputation\n",
    "mean_values = df.mean()\n",
    "mean_imputation = df.fillna(mean_values)\n",
    "mean_imputation.head()"
   ]
  },
  {
   "cell_type": "code",
   "execution_count": null,
   "metadata": {},
   "outputs": [],
   "source": [
    "# median imputation\n",
    "median_values = df[impute_columns].median()\n",
    "median_imputation = df[impute_columns].fillna(median_values)\n",
    "median_imputation.head()"
   ]
  },
  {
   "cell_type": "markdown",
   "metadata": {},
   "source": [
    "Random Sample Imputation"
   ]
  },
  {
   "cell_type": "code",
   "execution_count": null,
   "metadata": {},
   "outputs": [],
   "source": [
    "def random_sample_imputation(dfcopy):\n",
    "   \n",
    "    cols_with_missing_values = dfcopy.columns[dfcopy.isna().any()].tolist()\n",
    "\n",
    "    for var in cols_with_missing_values:\n",
    "\n",
    "        # extract a random sample\n",
    "        random_sample_df = dfcopy[var].dropna().sample(dfcopy[var].isnull().sum(),\n",
    "                                                    random_state=0, replace=True)\n",
    "        # re-index the randomly extracted sample\n",
    "        random_sample_df.index = dfcopy[\n",
    "                dfcopy[var].isnull()].index\n",
    "\n",
    "        # replace the NA\n",
    "        dfcopy.loc[dfcopy[var].isnull(), var] = random_sample_df\n",
    "    \n",
    "    return dfcopy"
   ]
  },
  {
   "cell_type": "code",
   "execution_count": null,
   "metadata": {},
   "outputs": [],
   "source": [
    "dfcopy = df.copy()\n",
    "random_sample_imp_df = random_sample_imputation(dfcopy)\n",
    "random_sample_imp_df.head()"
   ]
  },
  {
   "cell_type": "markdown",
   "metadata": {},
   "source": [
    "Plotting distribution"
   ]
  },
  {
   "cell_type": "code",
   "execution_count": null,
   "metadata": {},
   "outputs": [],
   "source": [
    "mean_imputation[\"garden_sqm Mean Imp\"] = mean_imputation[\"garden_sqm\"]\n",
    "median_imputation[\"garden_sqm Median Imp\"] = median_imputation[\"garden_sqm\"]\n",
    "random_sample_imp_df[\"garden_sqm Random Imp\"] = random_sample_imp_df[\"garden_sqm\"]"
   ]
  },
  {
   "cell_type": "code",
   "execution_count": null,
   "metadata": {},
   "outputs": [],
   "source": [
    "import matplotlib.pyplot as plt\n",
    "plt.figure(figsize=(12,8))\n",
    "\n",
    "df[\"garden_sqm\"].plot(kind='kde',color='blue')\n",
    "mean_imputation[\"garden_sqm Mean Imp\"].plot(kind='kde',color='yellow')\n",
    "median_imputation[\"garden_sqm Median Imp\"].plot(kind='kde',color='red')\n",
    "\n",
    "plt.legend()"
   ]
  },
  {
   "cell_type": "markdown",
   "metadata": {},
   "source": [
    "## Convert categorical data into numerical features"
   ]
  },
  {
   "cell_type": "markdown",
   "metadata": {},
   "source": [
    "Categorical data is already converted to numerical values 1 and 0. \n",
    "\n",
    "https://scikit-learn.org/stable/modules/generated/sklearn.preprocessing.OneHotEncoder.html\n",
    "\n",
    "https://www.geeksforgeeks.org/ml-one-hot-encoding-of-datasets-in-python/"
   ]
  },
  {
   "cell_type": "code",
   "execution_count": null,
   "metadata": {},
   "outputs": [],
   "source": [
    "# One hot encoding\n",
    "\n",
    "# Specify columns to convert\n",
    "category_columns = [\"fl_furnished\", \"fl_open_fire\", \"fl_terrace\", \"fl_garden\", \"fl_swimming_pool\", \"fl_floodzone\", \"fl_double_glazing\"]"
   ]
  },
  {
   "cell_type": "code",
   "execution_count": null,
   "metadata": {},
   "outputs": [],
   "source": [
    "# importing libraries\n",
    "import pandas as pd\n",
    "import numpy as np\n",
    "from sklearn.preprocessing import OneHotEncoder\n",
    "\n",
    "# Retreive data\n",
    "data = pd.read_csv(\"../data/properties.csv\")\n",
    "\n",
    "# Convert type of columns to category\n",
    "data[\"fl_furnished\"] = data[\"fl_furnished\"].astype(\"category\")\n",
    "data[\"fl_open_fire\"] = data[\"fl_open_fire\"].astype(\"category\")\n",
    "\n",
    "# Assign numerical values and store in another column\n",
    "data[\"fur_new\"] = data[\"fl_furnished\"].cat.codes\n",
    "data[\"fire_new\"] = data[\"fl_open_fire\"].cat.codes\n",
    "\n",
    "# Create instance of One-hot-encoder\n",
    "enc = OneHotEncoder()\n",
    "\n",
    "# Pass encoded columns\n",
    "enc_data = pd.DataFrame(enc.fit_transform(data[[\"fur_new\", \"fire_new\"]]).toarray())\n",
    "\n",
    "# Merge with main\n",
    "new_df = data.join(enc_data)\n",
    "\n",
    "display(new_df)"
   ]
  },
  {
   "cell_type": "markdown",
   "metadata": {},
   "source": [
    "## Encoding categorical features"
   ]
  },
  {
   "cell_type": "markdown",
   "metadata": {},
   "source": [
    "https://scikit-learn.org/stable/modules/preprocessing.html#encoding-categorical-features"
   ]
  },
  {
   "cell_type": "code",
   "execution_count": null,
   "metadata": {},
   "outputs": [],
   "source": []
  },
  {
   "cell_type": "markdown",
   "metadata": {},
   "source": [
    "## Rescale numeric features with standardization"
   ]
  },
  {
   "cell_type": "code",
   "execution_count": null,
   "metadata": {},
   "outputs": [],
   "source": [
    "from sklearn.preprocessing import StandardScaler\n",
    "\n",
    "# define data\n",
    "data = df.select_dtypes(exclude='object')\n",
    "display(data.head())\n",
    "\n",
    "# define standard scaler\n",
    "scaler = StandardScaler()\n",
    "\n",
    "# transform data\n",
    "scaled_data = scaler.fit_transform(data)\n",
    "display(scaled_data)\n",
    "\n",
    "scaled_df = pd.DataFrame(scaled_data, columns=data.columns)\n",
    "display(scaled_df)"
   ]
  },
  {
   "cell_type": "code",
   "execution_count": null,
   "metadata": {},
   "outputs": [],
   "source": [
    "# histograms of the variables\n",
    "from matplotlib import pyplot\n",
    "df.hist()\n",
    "pyplot.show()"
   ]
  }
 ],
 "metadata": {
  "kernelspec": {
   "display_name": ".venv",
   "language": "python",
   "name": "python3"
  },
  "language_info": {
   "codemirror_mode": {
    "name": "ipython",
    "version": 3
   },
   "file_extension": ".py",
   "mimetype": "text/x-python",
   "name": "python",
   "nbconvert_exporter": "python",
   "pygments_lexer": "ipython3",
   "version": "3.12.2"
  }
 },
 "nbformat": 4,
 "nbformat_minor": 2
}
