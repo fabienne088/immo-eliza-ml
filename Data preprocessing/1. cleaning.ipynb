{
 "cells": [
  {
   "cell_type": "markdown",
   "metadata": {},
   "source": [
    "# 1. Cleaning"
   ]
  },
  {
   "cell_type": "markdown",
   "metadata": {},
   "source": [
    "Some notes about the clean dataset in **data/properties.csv** :\n",
    "\n",
    "- There are about 76 000 properties, roughly equally spread across houses and apartments\n",
    "- Each property has a unique identifier **id**\n",
    "- The target variable is **price**\n",
    "- Variables prefixed with **fl_** are dummy variables (1/0)\n",
    "- Variables suffixed with **_sqm** indicate the measurement is in square meters\n",
    "- All missing categories for the categorical variables are encoded as **MISSING**"
   ]
  },
  {
   "cell_type": "markdown",
   "metadata": {},
   "source": [
    "## Exploring the dataset"
   ]
  },
  {
   "cell_type": "code",
   "execution_count": null,
   "metadata": {},
   "outputs": [],
   "source": [
    "# Import libraries\n",
    "import pandas as pd\n",
    "import numpy as np\n",
    "import csv"
   ]
  },
  {
   "cell_type": "code",
   "execution_count": null,
   "metadata": {},
   "outputs": [],
   "source": [
    "# Read the csv file\n",
    "df = pd.read_csv(\"../data/properties.csv\")"
   ]
  },
  {
   "cell_type": "code",
   "execution_count": null,
   "metadata": {},
   "outputs": [],
   "source": [
    "# Display the head\n",
    "df.head()"
   ]
  },
  {
   "cell_type": "code",
   "execution_count": null,
   "metadata": {},
   "outputs": [],
   "source": [
    "print(\"There are {} rows of data\".format(len(df)))"
   ]
  },
  {
   "cell_type": "code",
   "execution_count": null,
   "metadata": {},
   "outputs": [],
   "source": [
    "# (rows,columns)\n",
    "df.shape"
   ]
  },
  {
   "cell_type": "code",
   "execution_count": null,
   "metadata": {},
   "outputs": [],
   "source": [
    "# Describe index\n",
    "df.index "
   ]
  },
  {
   "cell_type": "code",
   "execution_count": null,
   "metadata": {},
   "outputs": [],
   "source": [
    "# Describe columns\n",
    "df.columns"
   ]
  },
  {
   "cell_type": "code",
   "execution_count": null,
   "metadata": {},
   "outputs": [],
   "source": [
    "# Info on df\n",
    "df.info()"
   ]
  },
  {
   "cell_type": "code",
   "execution_count": null,
   "metadata": {},
   "outputs": [],
   "source": [
    "# Descriptive statistics\n",
    "df.describe()"
   ]
  },
  {
   "cell_type": "code",
   "execution_count": null,
   "metadata": {},
   "outputs": [],
   "source": [
    "# Number of non-NA values\n",
    "df.count()"
   ]
  },
  {
   "cell_type": "code",
   "execution_count": null,
   "metadata": {},
   "outputs": [],
   "source": [
    "# descriptive statistics for all columns in df, including both numeric and non-numeric (categorical) columns\n",
    "\n",
    "df.describe(include=\"all\").T  # Transpose the data frame so that it fits in a cell"
   ]
  },
  {
   "cell_type": "code",
   "execution_count": null,
   "metadata": {},
   "outputs": [],
   "source": [
    "# check for missing (NaN or null) values in each column, \n",
    "# count the number of missing values per column, \n",
    "# and then sort the results in descending order\n",
    "\n",
    "df.isna().sum().sort_values(ascending=False)"
   ]
  },
  {
   "cell_type": "code",
   "execution_count": null,
   "metadata": {},
   "outputs": [],
   "source": [
    "# There are no duplicates\n",
    "df.duplicated().any()"
   ]
  },
  {
   "cell_type": "code",
   "execution_count": null,
   "metadata": {},
   "outputs": [],
   "source": [
    "# See unique values in dataframe\n",
    "for column in df.columns:\n",
    "    unique_values = df[column].unique()\n",
    "    print(f\"Unique values in column '{column}' is : {unique_values}\")"
   ]
  },
  {
   "cell_type": "markdown",
   "metadata": {},
   "source": [
    "## Cleaning the data"
   ]
  },
  {
   "cell_type": "code",
   "execution_count": null,
   "metadata": {},
   "outputs": [],
   "source": [
    "# Replace values \"missing\" by NAN\n",
    "missing_column = [\"region\", \"province\", \"locality\", \"equipped_kitchen\", \"state_building\", \"epc\", \"heating_type\"]\n",
    "df_missing_col = df[missing_column].replace('MISSING', np.NAN, inplace=False)\n",
    "display(df_missing_col)\n",
    "\n",
    "# Replace the \"MISSING\" values with NaN\n",
    "df_missing = df.replace('MISSING', np.NAN, inplace=False)\n",
    "display(df_missing)"
   ]
  },
  {
   "cell_type": "code",
   "execution_count": null,
   "metadata": {},
   "outputs": [],
   "source": [
    "df_missing.isna().sum().sort_values(ascending=False)"
   ]
  },
  {
   "cell_type": "code",
   "execution_count": null,
   "metadata": {},
   "outputs": [],
   "source": [
    "df_missing.describe(include=\"all\").T"
   ]
  },
  {
   "cell_type": "code",
   "execution_count": null,
   "metadata": {},
   "outputs": [],
   "source": [
    "df_missing.dtypes"
   ]
  },
  {
   "cell_type": "code",
   "execution_count": null,
   "metadata": {},
   "outputs": [],
   "source": [
    "# Replace the \"MISSING\" values with NaN\n",
    "df = df.replace('MISSING', np.NAN, inplace=False)\n",
    "display(df.head())"
   ]
  },
  {
   "cell_type": "markdown",
   "metadata": {},
   "source": [
    "### Drop columns: > 50% Nan and specific columns"
   ]
  },
  {
   "cell_type": "code",
   "execution_count": null,
   "metadata": {},
   "outputs": [],
   "source": [
    "# Calculate the percentage of missing values in each column\n",
    "missing_percentage = df.isna().mean() * 100\n",
    "\n",
    "# Filter columns where missing percentage is greater than 50%\n",
    "columns_to_drop = missing_percentage[missing_percentage > 50].index\n",
    "\n",
    "# Drop columns with more than 50% missing values\n",
    "df_drop = df.drop(columns=columns_to_drop, inplace=False)\n",
    "\n",
    "# Print the columns that were dropped\n",
    "b = df_drop.columns.symmetric_difference(df.columns)\n",
    "print (\"Uncommon Columns:\",b)\n",
    "display(df_drop.head())\n"
   ]
  },
  {
   "cell_type": "code",
   "execution_count": null,
   "metadata": {},
   "outputs": [],
   "source": [
    "# Drop specific columns\n",
    "df_dropID = df.drop([\"id\"], axis=1)\n",
    "display(df_dropID.head())\n",
    "\n",
    "# Drop longitude and latitude\n",
    "df = df.drop([\"id\", \"latitude\", \"longitude\"], axis=1)\n",
    "display(df.head())"
   ]
  },
  {
   "cell_type": "markdown",
   "metadata": {},
   "source": [
    "### Unique values"
   ]
  },
  {
   "cell_type": "code",
   "execution_count": null,
   "metadata": {},
   "outputs": [],
   "source": [
    "# See unique values in dataframe\n",
    "for column in df.columns:\n",
    "    unique_values = df[column].unique()\n",
    "    print(f\"Unique values in column '{column}' is : {unique_values}\")"
   ]
  },
  {
   "cell_type": "code",
   "execution_count": null,
   "metadata": {},
   "outputs": [],
   "source": [
    "# See unique values of a specific column\n",
    "unique_value = df[\"subproperty_type\"].unique()\n",
    "print(unique_value)\n",
    "\n",
    "# See unique values of multiple columns\n",
    "unique_values_multi = df[['property_type', 'subproperty_type', 'region', 'province', 'locality', 'equipped_kitchen', 'state_building', 'epc', 'heating_type']].apply(lambda x: x.unique())\n",
    "print(\"\\nUnique values in columns:\\n\", unique_values_multi)\n"
   ]
  },
  {
   "cell_type": "code",
   "execution_count": null,
   "metadata": {},
   "outputs": [],
   "source": [
    "# See unique values of multiple columns\n",
    "columns = df[['property_type', 'subproperty_type', 'region', 'province', 'locality', 'equipped_kitchen', 'state_building', 'epc', 'heating_type']]\n",
    "for column in columns:\n",
    "    multi_columns = df[column].unique() \n",
    "    print(f\"Unique values in column '{column}': {multi_columns}\")"
   ]
  },
  {
   "cell_type": "markdown",
   "metadata": {},
   "source": [
    "### dtypes"
   ]
  },
  {
   "cell_type": "code",
   "execution_count": null,
   "metadata": {},
   "outputs": [],
   "source": [
    "# Print dtypes\n",
    "df.info()\n",
    "# Select datatypes\n",
    "data_object = df.select_dtypes(include='object')\n",
    "data_float = df.select_dtypes(include='float64')\n",
    "data_int = df.select_dtypes(include='int64')"
   ]
  },
  {
   "cell_type": "code",
   "execution_count": null,
   "metadata": {},
   "outputs": [],
   "source": [
    "data = df.select_dtypes(include='object')\n",
    "\n",
    "for column in data.columns:\n",
    "    unique_values = data[column].unique()\n",
    "    print(f\"Unique values in column '{column}' is : {unique_values}\")"
   ]
  },
  {
   "cell_type": "code",
   "execution_count": null,
   "metadata": {},
   "outputs": [],
   "source": [
    "data = df.select_dtypes(include='float64')\n",
    "\n",
    "for column in data.columns:\n",
    "    unique_values = data[column].unique()\n",
    "    print(f\"Unique values in column '{column}' is : {unique_values}\")"
   ]
  },
  {
   "cell_type": "code",
   "execution_count": null,
   "metadata": {},
   "outputs": [],
   "source": [
    "data = df.select_dtypes(include='int64')\n",
    "\n",
    "for column in data.columns:\n",
    "    unique_values = data[column].unique()\n",
    "    print(f\"Unique values in column '{column}' is : {unique_values}\")"
   ]
  },
  {
   "cell_type": "markdown",
   "metadata": {},
   "source": [
    "## Remove rows with missing values"
   ]
  },
  {
   "cell_type": "code",
   "execution_count": null,
   "metadata": {},
   "outputs": [],
   "source": [
    "# Function to drop observations with missing values\n",
    "def drop_missing_values(df):\n",
    "    \"\"\"\n",
    "    Drop observations with missing values in specific columns.\n",
    "    Parameters:\n",
    "    - df: pandas DataFrame, the DataFrame to be cleaned\n",
    "    Returns:\n",
    "    - pandas DataFrame, the cleaned DataFrame\n",
    "    \"\"\"\n",
    "    # Drop missing observations for columns 'province', 'region', 'locality'\n",
    "    df_cleaned = df.dropna(subset=['province', 'region', 'locality'])\n",
    "\n",
    "    # Check if there are any missing values left in the columns\n",
    "    if df_cleaned['province'].isnull().any() or df_cleaned['region'].isnull().any() or df_cleaned['locality'].isnull().any():\n",
    "        print(\"Warning: Missing values still present after dropping.\")\n",
    "    else:\n",
    "        print(\"Missing values were successfully dropped.\")\n",
    "\n",
    "    return df_cleaned\n",
    "\n",
    "# Name the dataframe\n",
    "df = drop_missing_values(df)\n",
    "display(df.head())\n"
   ]
  },
  {
   "cell_type": "markdown",
   "metadata": {},
   "source": [
    "## Remove outliers"
   ]
  },
  {
   "cell_type": "markdown",
   "metadata": {},
   "source": [
    "**Handle outliers per column**"
   ]
  },
  {
   "cell_type": "code",
   "execution_count": null,
   "metadata": {},
   "outputs": [],
   "source": [
    "def handle_outliers(df, columns_to_remove_outliers, zscore_threshold=3):\n",
    "    \"\"\"\n",
    "    Handle outliers in specified columns of a DataFrame.\n",
    "    Parameters:\n",
    "        df (DataFrame): Input DataFrame.\n",
    "        columns_to_remove_outliers (list): List of column names to remove outliers.\n",
    "        zscore_threshold (float): Z-score threshold for identifying outliers. Default is 3.\n",
    "    Returns:\n",
    "        DataFrame: DataFrame with outliers removed.\n",
    "    \"\"\"\n",
    "    # Create a copy of the DataFrame to avoid modifying the original DataFrame\n",
    "    df_outliers = df.copy()\n",
    "\n",
    "    # Iterate through each column in columns_to_remove_outliers\n",
    "    for column_name in columns_to_remove_outliers:\n",
    "        # Convert the column to a numeric data type, ignoring errors\n",
    "        df_outliers[column_name] = pd.to_numeric(df_outliers[column_name], errors='coerce')\n",
    "\n",
    "        # Calculate Z-scores for the specified column\n",
    "        z_scores = (df_outliers[column_name] - df_outliers[column_name].mean()) / df_outliers[column_name].std()\n",
    "\n",
    "        # Create a mask to identify outliers\n",
    "        outlier_mask = np.abs(z_scores) > zscore_threshold\n",
    "\n",
    "        # Print the columns for which outliers are being removed\n",
    "        print(\"Removing outliers for column: \" + column_name)\n",
    "\n",
    "        # Count missing values\n",
    "        missing_values_count = df_outliers[column_name].isna().sum()\n",
    "        print(\"Number of missing values in \" + column_name + \": \" + str(missing_values_count))\n",
    "\n",
    "    return df_outliers\n",
    "\n",
    "# Call the modified function\n",
    "columns_to_remove_outliers = df.select_dtypes(exclude = 'object').columns\n",
    "house_filtered = handle_outliers(df, columns_to_remove_outliers)\n",
    "\n",
    "df.shape\n"
   ]
  },
  {
   "cell_type": "markdown",
   "metadata": {},
   "source": [
    "## Write cleaned dataframe to csv"
   ]
  },
  {
   "cell_type": "code",
   "execution_count": null,
   "metadata": {},
   "outputs": [],
   "source": [
    "# Save the cleaned dataframe as çleaned_properties.csv\n",
    "df.to_csv(\"../data/cleaned_properties.csv\", index=False)"
   ]
  }
 ],
 "metadata": {
  "kernelspec": {
   "display_name": ".venv",
   "language": "python",
   "name": "python3"
  },
  "language_info": {
   "codemirror_mode": {
    "name": "ipython",
    "version": 3
   },
   "file_extension": ".py",
   "mimetype": "text/x-python",
   "name": "python",
   "nbconvert_exporter": "python",
   "pygments_lexer": "ipython3",
   "version": "3.12.2"
  }
 },
 "nbformat": 4,
 "nbformat_minor": 2
}
